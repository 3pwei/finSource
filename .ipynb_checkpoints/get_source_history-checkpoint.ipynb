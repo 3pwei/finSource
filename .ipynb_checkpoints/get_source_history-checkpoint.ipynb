{
 "cells": [
  {
   "cell_type": "code",
   "execution_count": 1,
   "id": "dbd02683-4a84-4d7a-8ecb-4cfdceff2154",
   "metadata": {},
   "outputs": [],
   "source": [
    "from FinMind.data import DataLoader\n",
    "import pandas as pd\n",
    "import matplotlib.pyplot as plt\n",
    "\n",
    "dl = DataLoader()\n",
    "df = dl.taiwan_stock_daily(stock_id='0050', start_date='2003-01-01', end_date='2023-02-25')\n",
    "\n",
    "df = df.rename(columns={\"date\": \"Date\"})\n",
    "df.set_index(\"Date\" , inplace=True)\n",
    "df = df.rename(columns={\"open\": \"Open\", \"max\": \"High\", \"min\": \"Low\", \"close\": \"Close\", \"Trading_Volume\": \"Volume\"})\n",
    "df = df.rename(columns={\"Trading_Volume\": \"Volume\"})\n",
    "df = df.set_index(pd.DatetimeIndex(pd.to_datetime(df.index)))"
   ]
  },
  {
   "cell_type": "code",
   "execution_count": 2,
   "id": "cd4d1759-e414-420e-ad54-ae0a286d72af",
   "metadata": {},
   "outputs": [],
   "source": [
    "token = pd.read_csv(r\"C:\\Users\\Wade\\Desktop\\Jupyter_Python\\finMindToken.txt\")"
   ]
  },
  {
   "cell_type": "code",
   "execution_count": 23,
   "id": "487c1e67-7559-4a92-b194-29549b38e4ca",
   "metadata": {},
   "outputs": [],
   "source": [
    "api = DataLoader()\n",
    "api.login_by_token(api_token=token)\n",
    "# api.login(user_id='user_id',password='password')\n",
    "df = api.taiwan_futures_tick(\n",
    "    futures_id='MTX',\n",
    "    date='2024-05-11'\n",
    ")"
   ]
  },
  {
   "cell_type": "code",
   "execution_count": null,
   "id": "4f2d731b-a4cf-498c-b235-96056253822b",
   "metadata": {},
   "outputs": [],
   "source": []
  }
 ],
 "metadata": {
  "kernelspec": {
   "display_name": "Python 3 (ipykernel)",
   "language": "python",
   "name": "python3"
  },
  "language_info": {
   "codemirror_mode": {
    "name": "ipython",
    "version": 3
   },
   "file_extension": ".py",
   "mimetype": "text/x-python",
   "name": "python",
   "nbconvert_exporter": "python",
   "pygments_lexer": "ipython3",
   "version": "3.11.5"
  }
 },
 "nbformat": 4,
 "nbformat_minor": 5
}
