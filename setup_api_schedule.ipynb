{
 "cells": [
  {
   "cell_type": "code",
   "execution_count": 3,
   "id": "6c69089c-a578-49b9-947f-499ab3b63178",
   "metadata": {},
   "outputs": [],
   "source": [
    "import requests\n",
    "import pandas as pd\n",
    "import time\n",
    "from apscheduler.schedulers.background import BackgroundScheduler\n",
    "from datetime import datetime\n",
    "import requests\n",
    "\n"
   ]
  },
  {
   "cell_type": "code",
   "execution_count": 4,
   "id": "0f13fa72-ce3a-4ee8-aac6-891399285e08",
   "metadata": {},
   "outputs": [],
   "source": [
    "token = pd.read_csv(r\"C:\\Users\\Wade\\Desktop\\Jupyter_Python\\finMindToken.txt\")"
   ]
  },
  {
   "cell_type": "code",
   "execution_count": 6,
   "id": "130a7471-fe29-4576-84bf-43d2a149c172",
   "metadata": {},
   "outputs": [
    {
     "name": "stdout",
     "output_type": "stream",
     "text": [
      "Schedule started ...\n",
      "timestep: 2024-05-11 04:59:56.092  ==> buy_price: 20944.0  ==> volume: 1\n",
      "程式執行中.....\n",
      "timestep: 2024-05-11 04:59:56.092  ==> buy_price: 20944.0  ==> volume: 1\n",
      "timestep: 2024-05-11 04:59:56.092  ==> buy_price: 20944.0  ==> volume: 1\n",
      "程式執行中.....\n",
      "timestep: 2024-05-11 04:59:56.092  ==> buy_price: 20944.0  ==> volume: 1\n",
      "timestep: 2024-05-11 04:59:56.092  ==> buy_price: 20944.0  ==> volume: 1\n",
      "timestep: 2024-05-11 04:59:56.092  ==> buy_price: 20944.0  ==> volume: 1\n"
     ]
    },
    {
     "ename": "KeyboardInterrupt",
     "evalue": "",
     "output_type": "error",
     "traceback": [
      "\u001b[1;31m---------------------------------------------------------------------------\u001b[0m",
      "\u001b[1;31mKeyboardInterrupt\u001b[0m                         Traceback (most recent call last)",
      "Cell \u001b[1;32mIn[6], line 28\u001b[0m\n\u001b[0;32m     25\u001b[0m \u001b[38;5;28mprint\u001b[39m(\u001b[38;5;124m'\u001b[39m\u001b[38;5;124mSchedule started ...\u001b[39m\u001b[38;5;124m'\u001b[39m)\n\u001b[0;32m     27\u001b[0m \u001b[38;5;28;01mwhile\u001b[39;00m \u001b[38;5;28;01mTrue\u001b[39;00m:\n\u001b[1;32m---> 28\u001b[0m     time\u001b[38;5;241m.\u001b[39msleep(\u001b[38;5;241m10\u001b[39m) \u001b[38;5;66;03m# 暫停10秒鐘\u001b[39;00m\n\u001b[0;32m     29\u001b[0m     \u001b[38;5;28mprint\u001b[39m(\u001b[38;5;124m'\u001b[39m\u001b[38;5;124m程式執行中.....\u001b[39m\u001b[38;5;124m'\u001b[39m)\n\u001b[0;32m     31\u001b[0m \u001b[38;5;66;03m# 停止\u001b[39;00m\n",
      "\u001b[1;31mKeyboardInterrupt\u001b[0m: "
     ]
    },
    {
     "name": "stdout",
     "output_type": "stream",
     "text": [
      "timestep: 2024-05-11 04:59:56.092  ==> buy_price: 20944.0  ==> volume: 1\n",
      "timestep: 2024-05-11 04:59:56.092  ==> buy_price: 20944.0  ==> volume: 1\n",
      "timestep: 2024-05-11 04:59:56.092  ==> buy_price: 20944.0  ==> volume: 1\n",
      "timestep: 2024-05-11 04:59:56.092  ==> buy_price: 20944.0  ==> volume: 1\n",
      "timestep: 2024-05-11 04:59:56.092  ==> buy_price: 20944.0  ==> volume: 1\n",
      "timestep: 2024-05-11 04:59:56.092  ==> buy_price: 20944.0  ==> volume: 1\n",
      "timestep: 2024-05-11 04:59:56.092  ==> buy_price: 20944.0  ==> volume: 1\n",
      "timestep: 2024-05-11 04:59:56.092  ==> buy_price: 20944.0  ==> volume: 1\n",
      "timestep: 2024-05-11 04:59:56.092  ==> buy_price: 20944.0  ==> volume: 1\n",
      "timestep: 2024-05-11 04:59:56.092  ==> buy_price: 20944.0  ==> volume: 1\n",
      "timestep: 2024-05-11 04:59:56.092  ==> buy_price: 20944.0  ==> volume: 1\n",
      "timestep: 2024-05-11 04:59:56.092  ==> buy_price: 20944.0  ==> volume: 1\n",
      "timestep: 2024-05-11 04:59:56.092  ==> buy_price: 20944.0  ==> volume: 1\n",
      "timestep: 2024-05-11 04:59:56.092  ==> buy_price: 20944.0  ==> volume: 1\n",
      "timestep: 2024-05-11 04:59:56.092  ==> buy_price: 20944.0  ==> volume: 1\n",
      "timestep: 2024-05-11 04:59:56.092  ==> buy_price: 20944.0  ==> volume: 1\n",
      "timestep: 2024-05-11 04:59:56.092  ==> buy_price: 20944.0  ==> volume: 1\n",
      "timestep: 2024-05-11 04:59:56.092  ==> buy_price: 20944.0  ==> volume: 1\n",
      "timestep: 2024-05-11 04:59:56.092  ==> buy_price: 20944.0  ==> volume: 1\n",
      "timestep: 2024-05-11 04:59:56.092  ==> buy_price: 20944.0  ==> volume: 1\n",
      "timestep: 2024-05-11 04:59:56.092  ==> buy_price: 20944.0  ==> volume: 1\n",
      "timestep: 2024-05-11 04:59:56.092  ==> buy_price: 20944.0  ==> volume: 1\n",
      "timestep: 2024-05-11 04:59:56.092  ==> buy_price: 20944.0  ==> volume: 1\n",
      "timestep: 2024-05-11 04:59:56.092  ==> buy_price: 20944.0  ==> volume: 1\n",
      "timestep: 2024-05-11 04:59:56.092  ==> buy_price: 20944.0  ==> volume: 1\n",
      "timestep: 2024-05-11 04:59:56.092  ==> buy_price: 20944.0  ==> volume: 1\n",
      "timestep: 2024-05-11 04:59:56.092  ==> buy_price: 20944.0  ==> volume: 1\n",
      "timestep: 2024-05-11 04:59:56.092  ==> buy_price: 20944.0  ==> volume: 1\n",
      "timestep: 2024-05-11 04:59:56.092  ==> buy_price: 20944.0  ==> volume: 1\n",
      "timestep: 2024-05-11 04:59:56.092  ==> buy_price: 20944.0  ==> volume: 1\n",
      "timestep: 2024-05-11 04:59:56.092  ==> buy_price: 20944.0  ==> volume: 1\n",
      "timestep: 2024-05-11 04:59:56.092  ==> buy_price: 20944.0  ==> volume: 1\n"
     ]
    }
   ],
   "source": [
    "url = \"https://api.finmindtrade.com/api/v4/taiwan_futures_snapshot\"\n",
    "parameter = {\n",
    "    \"dataset\": \"taiwan_futures_snapshot\",\n",
    "    \"data_id\": \"TXFE4\",\n",
    "    \"token\": token, \n",
    "}\n",
    "\n",
    "def job1():\n",
    "    resp = requests.get(url, params=parameter)\n",
    "    data = resp.json()\n",
    "    data = pd.DataFrame(data[\"data\"])\n",
    "    print(\"timestep:\",data[\"date\"].values[0],\" ==> buy_price:\",data[\"buy_price\"].values[0],\" ==> volume:\",data[\"volume\"].values[0])\n",
    "\n",
    "\n",
    "\n",
    "# 指定時區（一定要指定，否則會失敗）\n",
    "scheduler = BackgroundScheduler(timezone=\"Asia/Shanghai\")\n",
    "\n",
    "# 每30秒執行job1函式\n",
    "scheduler.add_job(job1, 'interval', seconds=5)\n",
    "\n",
    "\n",
    "scheduler.start()\n",
    "\n",
    "print('Schedule started ...')\n",
    "\n",
    "while True:\n",
    "    time.sleep(10) # 暫停10秒鐘\n",
    "    print('程式執行中.....')\n",
    "\n",
    "# 停止\n",
    "scheduler.shutdown()"
   ]
  },
  {
   "cell_type": "code",
   "execution_count": null,
   "id": "654e332f-a2e2-4260-9b20-9fdb174ee600",
   "metadata": {},
   "outputs": [],
   "source": []
  }
 ],
 "metadata": {
  "kernelspec": {
   "display_name": "Python 3 (ipykernel)",
   "language": "python",
   "name": "python3"
  },
  "language_info": {
   "codemirror_mode": {
    "name": "ipython",
    "version": 3
   },
   "file_extension": ".py",
   "mimetype": "text/x-python",
   "name": "python",
   "nbconvert_exporter": "python",
   "pygments_lexer": "ipython3",
   "version": "3.11.5"
  }
 },
 "nbformat": 4,
 "nbformat_minor": 5
}
