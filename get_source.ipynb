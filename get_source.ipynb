{
 "cells": [
  {
   "cell_type": "markdown",
   "id": "a1fa21d6-7e3e-4793-a1b8-33737ffc20d5",
   "metadata": {},
   "source": [
    "# FinMind + backtesting + talib"
   ]
  },
  {
   "cell_type": "markdown",
   "id": "9474f0fd-9252-4d4a-aa23-2804c07ef413",
   "metadata": {},
   "source": [
    "#### Talib is used to analyze stock and shows the related indexes. \n",
    "#### FinMind is used to get the data from the Taiwan market."
   ]
  },
  {
   "cell_type": "code",
   "execution_count": null,
   "id": "dbd02683-4a84-4d7a-8ecb-4cfdceff2154",
   "metadata": {},
   "outputs": [],
   "source": [
    "from FinMind.data import DataLoader\n",
    "import pandas as pd\n",
    "\n",
    "dl = DataLoader()\n",
    "df = dl.taiwan_stock_daily(stock_id='0050', start_date='2003-01-01', end_date='2023-02-25')\n",
    "\n",
    "df = df.rename(columns={\"date\": \"Date\"})\n",
    "df.set_index(\"Date\" , inplace=True)\n",
    "df = df.rename(columns={\"open\": \"Open\", \"max\": \"High\", \"min\": \"Low\", \"close\": \"Close\", \"Trading_Volume\": \"Volume\"})\n",
    "df = df.rename(columns={\"Trading_Volume\": \"Volume\"})\n",
    "df = df.set_index(pd.DatetimeIndex(pd.to_datetime(df.index)))"
   ]
  },
  {
   "cell_type": "markdown",
   "id": "49a89a12-a78b-474d-a7d1-a5306a2622c9",
   "metadata": {},
   "source": [
    "# FinMind API"
   ]
  },
  {
   "cell_type": "code",
   "execution_count": null,
   "id": "cd4d1759-e414-420e-ad54-ae0a286d72af",
   "metadata": {},
   "outputs": [],
   "source": [
    "token = pd.read_csv(r\"C:\\Users\\Wade\\Desktop\\Jupyter_Python\\finMindToken.txt\")"
   ]
  },
  {
   "cell_type": "code",
   "execution_count": null,
   "id": "77d5b032-059e-44c8-bda0-b8e98bb67f2e",
   "metadata": {},
   "outputs": [],
   "source": [
    "import requests\n",
    "url = \"https://api.web.finmindtrade.com/v2/user_info\"\n",
    "payload = {\n",
    "    \"token\": token, # 參考登入，獲取金鑰\n",
    "}\n",
    "resp = requests.get(url, params=payload)\n",
    "resp.json()[\"user_count\"]  # 使用次數\n",
    "resp.json()[\"api_request_limit\"]  # api 使用上限"
   ]
  },
  {
   "cell_type": "markdown",
   "id": "7dccdbd8-af7a-43f8-947a-b340f19e1c85",
   "metadata": {},
   "source": [
    "### Real time"
   ]
  },
  {
   "cell_type": "code",
   "execution_count": null,
   "id": "d68f7591-2043-43ab-a3c9-625945d96d8e",
   "metadata": {},
   "outputs": [],
   "source": [
    "url = \"https://api.finmindtrade.com/api/v4/taiwan_futures_snapshot\"\n",
    "parameter = {\n",
    "    \"dataset\": \"taiwan_futures_snapshot\",\n",
    "    \"data_id\": \"TXFE4\",\n",
    "    \"token\": token, # 參考登入，獲取金鑰\n",
    "}\n",
    "\n",
    "\n",
    "resp = requests.get(url, params=parameter)\n",
    "data = resp.json()"
   ]
  },
  {
   "cell_type": "code",
   "execution_count": null,
   "id": "2f3045b0-9179-41d8-8264-05f06142a1b5",
   "metadata": {},
   "outputs": [],
   "source": [
    "resp.json()"
   ]
  },
  {
   "cell_type": "markdown",
   "id": "02bde6d6-2180-4c4f-9ddf-0f09024d891c",
   "metadata": {},
   "source": [
    "### Indicator: CnnFearGreedIndex"
   ]
  },
  {
   "cell_type": "code",
   "execution_count": null,
   "id": "d3a8aac2-232b-4e89-99ad-aeebc2b21f57",
   "metadata": {},
   "outputs": [],
   "source": [
    "url = \"https://api.finmindtrade.com/api/v4/data?\"\n",
    "parameter = {\n",
    "    \"dataset\": \"CnnFearGreedIndex\",\n",
    "    \"data_id\": \"2330\",\n",
    "    \"start_date\":\"2024-04-01\",\n",
    "    \"end_date\":None,\n",
    "    \"token\": token, \n",
    "}\n",
    "\n",
    "\n",
    "resp = requests.get(url, params=parameter)\n",
    "data = resp.json()"
   ]
  },
  {
   "cell_type": "code",
   "execution_count": null,
   "id": "344ab41c-4b70-4334-821c-38ef5a6222a5",
   "metadata": {},
   "outputs": [],
   "source": [
    "data"
   ]
  },
  {
   "cell_type": "markdown",
   "id": "243538fb-ac2d-4ad3-bf2c-49c350e2ed2a",
   "metadata": {},
   "source": [
    "### History data"
   ]
  },
  {
   "cell_type": "code",
   "execution_count": null,
   "id": "487c1e67-7559-4a92-b194-29549b38e4ca",
   "metadata": {},
   "outputs": [],
   "source": [
    "api = DataLoader()\n",
    "api.login_by_token(api_token=token)\n",
    "# api.login(user_id='user_id',password='password')\n",
    "df = api.taiwan_futures_tick(\n",
    "    futures_id='MTX',\n",
    "    date='2020-04-01'\n",
    ")"
   ]
  },
  {
   "cell_type": "code",
   "execution_count": null,
   "id": "6251f7b0-9942-443b-b014-0bf0c8e24b1d",
   "metadata": {},
   "outputs": [],
   "source": [
    "df[df[\"date\"]==\"2020-04-01 00:00:02\"]"
   ]
  },
  {
   "cell_type": "code",
   "execution_count": null,
   "id": "14b98664-9063-40e4-9f97-8a7394cc9a21",
   "metadata": {},
   "outputs": [],
   "source": [
    "df"
   ]
  },
  {
   "cell_type": "code",
   "execution_count": null,
   "id": "03b5d9d3-385a-4513-8ede-80e48f01fac2",
   "metadata": {},
   "outputs": [],
   "source": []
  }
 ],
 "metadata": {
  "kernelspec": {
   "display_name": "Python 3 (ipykernel)",
   "language": "python",
   "name": "python3"
  },
  "language_info": {
   "codemirror_mode": {
    "name": "ipython",
    "version": 3
   },
   "file_extension": ".py",
   "mimetype": "text/x-python",
   "name": "python",
   "nbconvert_exporter": "python",
   "pygments_lexer": "ipython3",
   "version": "3.11.5"
  }
 },
 "nbformat": 4,
 "nbformat_minor": 5
}
