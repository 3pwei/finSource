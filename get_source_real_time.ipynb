{
 "cells": [
  {
   "cell_type": "code",
   "execution_count": 1,
   "id": "dbd02683-4a84-4d7a-8ecb-4cfdceff2154",
   "metadata": {},
   "outputs": [],
   "source": [
    "from FinMind.data import DataLoader\n",
    "import pandas as pd\n",
    "import matplotlib.pyplot as plt\n",
    "import requests\n",
    "\n",
    "dl = DataLoader()\n",
    "df = dl.taiwan_stock_daily(stock_id='0050', start_date='2003-01-01', end_date='2023-02-25')\n",
    "\n",
    "df = df.rename(columns={\"date\": \"Date\"})\n",
    "df.set_index(\"Date\" , inplace=True)\n",
    "df = df.rename(columns={\"open\": \"Open\", \"max\": \"High\", \"min\": \"Low\", \"close\": \"Close\", \"Trading_Volume\": \"Volume\"})\n",
    "df = df.rename(columns={\"Trading_Volume\": \"Volume\"})\n",
    "df = df.set_index(pd.DatetimeIndex(pd.to_datetime(df.index)))"
   ]
  },
  {
   "cell_type": "code",
   "execution_count": 2,
   "id": "8d1c2795-7b3b-484a-9c2c-dc5738ef21e2",
   "metadata": {},
   "outputs": [],
   "source": [
    "token = pd.read_csv(r\"C:\\Users\\Wade\\Desktop\\Jupyter_Python\\finMindToken.txt\")"
   ]
  },
  {
   "cell_type": "code",
   "execution_count": 3,
   "id": "d68f7591-2043-43ab-a3c9-625945d96d8e",
   "metadata": {},
   "outputs": [],
   "source": [
    "url = \"https://api.finmindtrade.com/api/v4/taiwan_futures_snapshot\"\n",
    "parameter = {\n",
    "    \"dataset\": \"taiwan_futures_snapshot\",\n",
    "    \"data_id\": \"TXFE4\",\n",
    "    \"token\": token, \n",
    "}\n",
    "\n",
    "resp = requests.get(url, params=parameter)\n",
    "data = resp.json()"
   ]
  },
  {
   "cell_type": "code",
   "execution_count": 4,
   "id": "2f3045b0-9179-41d8-8264-05f06142a1b5",
   "metadata": {},
   "outputs": [
    {
     "data": {
      "text/plain": [
       "{'msg': 'success',\n",
       " 'status': 200,\n",
       " 'data': [{'open': 21184.0,\n",
       "   'high': 21361.0,\n",
       "   'low': 21116.0,\n",
       "   'close': 21143.0,\n",
       "   'change_price': 137.0,\n",
       "   'change_rate': 0.65,\n",
       "   'average_price': 21223.47,\n",
       "   'volume': 5,\n",
       "   'total_volume': 61866,\n",
       "   'amount': 105715,\n",
       "   'total_amount': 1313010968,\n",
       "   'yesterday_volume': 33547,\n",
       "   'buy_price': 21142.0,\n",
       "   'buy_volume': 376,\n",
       "   'sell_price': 21143.0,\n",
       "   'sell_volume': 92,\n",
       "   'volume_ratio': 1.84,\n",
       "   'date': '2024-05-15 13:29:58.766',\n",
       "   'futures_id': 'TXFE4',\n",
       "   'TickType': 1}]}"
      ]
     },
     "execution_count": 4,
     "metadata": {},
     "output_type": "execute_result"
    }
   ],
   "source": [
    "resp.json()"
   ]
  },
  {
   "cell_type": "code",
   "execution_count": null,
   "id": "4f2d731b-a4cf-498c-b235-96056253822b",
   "metadata": {},
   "outputs": [],
   "source": []
  }
 ],
 "metadata": {
  "kernelspec": {
   "display_name": "Python 3 (ipykernel)",
   "language": "python",
   "name": "python3"
  },
  "language_info": {
   "codemirror_mode": {
    "name": "ipython",
    "version": 3
   },
   "file_extension": ".py",
   "mimetype": "text/x-python",
   "name": "python",
   "nbconvert_exporter": "python",
   "pygments_lexer": "ipython3",
   "version": "3.11.5"
  }
 },
 "nbformat": 4,
 "nbformat_minor": 5
}
