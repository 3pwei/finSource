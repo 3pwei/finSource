{
 "cells": [
  {
   "cell_type": "code",
   "execution_count": null,
   "id": "dbd02683-4a84-4d7a-8ecb-4cfdceff2154",
   "metadata": {},
   "outputs": [],
   "source": [
    "from FinMind.data import DataLoader\n",
    "import pandas as pd\n",
    "import matplotlib.pyplot as plt\n",
    "import requests\n",
    "from datetime import datetime, timedelta\n",
    "import numpy as np\n",
    "\n",
    "# dl = DataLoader()\n",
    "# df = dl.taiwan_stock_daily(stock_id='0050', start_date='2003-01-01', end_date='2023-02-25')\n",
    "\n",
    "# df = df.rename(columns={\"date\": \"Date\"})\n",
    "# df.set_index(\"Date\" , inplace=True)\n",
    "# df = df.rename(columns={\"open\": \"Open\", \"max\": \"High\", \"min\": \"Low\", \"close\": \"Close\", \"Trading_Volume\": \"Volume\"})\n",
    "# df = df.rename(columns={\"Trading_Volume\": \"Volume\"})\n",
    "# df = df.set_index(pd.DatetimeIndex(pd.to_datetime(df.index)))"
   ]
  },
  {
   "cell_type": "code",
   "execution_count": null,
   "id": "cd4d1759-e414-420e-ad54-ae0a286d72af",
   "metadata": {},
   "outputs": [],
   "source": [
    "token = pd.read_csv(r\"C:\\Users\\Wade\\Desktop\\Jupyter_Python\\finMindToken.txt\")"
   ]
  },
  {
   "cell_type": "code",
   "execution_count": null,
   "id": "487c1e67-7559-4a92-b194-29549b38e4ca",
   "metadata": {},
   "outputs": [],
   "source": [
    "api = DataLoader()\n",
    "api.login_by_token(api_token=token)\n",
    "# api.login(user_id='user_id',password='password')\n",
    "df1 = api.taiwan_futures_tick(\n",
    "    futures_id='MTX',\n",
    "    date='2024-06-05'\n",
    ")"
   ]
  },
  {
   "cell_type": "code",
   "execution_count": null,
   "id": "580c8751-33a3-4d0b-bcbf-883450b7b731",
   "metadata": {},
   "outputs": [],
   "source": [
    "\n",
    "api = DataLoader()\n",
    "api.login_by_token(api_token=token)\n",
    "# api.login(user_id='user_id',password='password')\n",
    "df2 = api.taiwan_futures_tick(\n",
    "    futures_id='MTX',\n",
    "    date='2024-06-06'\n",
    ")"
   ]
  },
  {
   "cell_type": "code",
   "execution_count": null,
   "id": "4f2d731b-a4cf-498c-b235-96056253822b",
   "metadata": {},
   "outputs": [],
   "source": [
    "# Appending df2 to df1\n",
    "df = pd.concat([df1, df2], ignore_index=True)"
   ]
  },
  {
   "cell_type": "code",
   "execution_count": null,
   "id": "a0bbb516-47f6-4c5b-8d30-b1030a83a76e",
   "metadata": {},
   "outputs": [],
   "source": [
    "# get historical data\n",
    "def get_historical_data(futures_id, date, api_token):\n",
    "    from FinMind.data import DataLoader\n",
    "    api = DataLoader()\n",
    "    api.login_by_token(api_token=token)\n",
    "    df = api.taiwan_futures_tick(futures_id=futures_id,date=date)\n",
    "    return df\n",
    "\n",
    "# date_steps\n",
    "def get_dates(start_date, end_date):\n",
    "    tmp_dates =[]\n",
    "    delta_dates = pd.to_datetime(end_date)- pd.to_datetime(start_date)\n",
    "    for i in range(delta_dates.days+1):\n",
    "        tmp = pd.to_datetime(start_date)+ timedelta(days=i)\n",
    "        tmp_dates.append(str(tmp.date()))\n",
    "    return tmp_dates\n",
    "    \n",
    "# concat historical data\n",
    "def concat_historical_data(futures_id, start_date, end_date,api_token):\n",
    "    # The switch is to define the dataframe of the first day\n",
    "    switch = True\n",
    "    dates = get_dates(start_date, end_date)\n",
    "\n",
    "    for date in dates:\n",
    "        if switch:\n",
    "            df = get_historical_data(futures_id, date, api_token)\n",
    "            switch = False\n",
    "        else:\n",
    "            tmp_df = get_historical_data(futures_id, date, api_token)\n",
    "            df = pd.concat([df, tmp_df], ignore_index=True)\n",
    "    return df\n",
    "    "
   ]
  },
  {
   "cell_type": "code",
   "execution_count": null,
   "id": "732a5e1b-3995-4039-a62d-d040d271473c",
   "metadata": {},
   "outputs": [],
   "source": [
    "df = concat_historical_data('MTX','2024-06-04','2024-06-08',token)"
   ]
  },
  {
   "cell_type": "code",
   "execution_count": null,
   "id": "b78fca3a-f5b6-441a-a0bf-6272e03656d7",
   "metadata": {},
   "outputs": [],
   "source": [
    "# Reshpae dataframe\n",
    "\n",
    "MTX_month = df[df['contract_date']=='202406']"
   ]
  },
  {
   "cell_type": "code",
   "execution_count": null,
   "id": "86e03438-1282-47d7-9033-e5206da485f7",
   "metadata": {},
   "outputs": [],
   "source": [
    "MTX_month = MTX_month.reindex(np.arange(len(MTX_month)))\n"
   ]
  },
  {
   "cell_type": "code",
   "execution_count": null,
   "id": "f48ec225-916a-4bd9-8392-69213b6d1591",
   "metadata": {},
   "outputs": [],
   "source": [
    "MTX_month"
   ]
  },
  {
   "cell_type": "code",
   "execution_count": null,
   "id": "3081bd52-1792-4401-96f7-b1f4b76d736e",
   "metadata": {},
   "outputs": [],
   "source": [
    "plt.plot(MTX_month.index.values, MTX_month.price.values)\n",
    "# plt.xticks(ticks=MTX_month.index.values,labels=pd.to_datetime(MTX_month.date.values))\n",
    "# plt.xlim([0,100])"
   ]
  },
  {
   "cell_type": "code",
   "execution_count": null,
   "id": "b94427ce-b636-4f4f-bbcd-c381be9af59d",
   "metadata": {},
   "outputs": [],
   "source": [
    "test = reverse_point_lower(MTX_month[['date','price']],6000,1200)\n",
    "test2 = reverse_point_upper(MTX_month[['date','price']],6000,1200)"
   ]
  },
  {
   "cell_type": "code",
   "execution_count": null,
   "id": "8dd58ca1-488b-484a-8dfa-78c9b7fb05ff",
   "metadata": {},
   "outputs": [],
   "source": [
    "test.date = pd.to_datetime(test.date)\n",
    "test2.date = pd.to_datetime(test2.date)"
   ]
  },
  {
   "cell_type": "code",
   "execution_count": null,
   "id": "57912b4b-c9ce-41d6-971a-4f7399ebf8ce",
   "metadata": {},
   "outputs": [],
   "source": [
    "\n",
    "plt.figure(figsize=(15,5))\n",
    "plt.scatter(MTX_month.index.values,MTX_month.price.values)\n",
    "plt.plot(moving_avaerage(MTX_month.price.values,600),c='r')\n",
    "plt.plot(moving_avaerage(MTX_month.price.values,9000),c='b')\n",
    "plt.scatter(test.id.values,test.price.values)\n",
    "plt.scatter(test2.id.values,test2.price.values)"
   ]
  },
  {
   "cell_type": "code",
   "execution_count": null,
   "id": "8b75f6c6-b739-43f9-80fc-83100b59e267",
   "metadata": {},
   "outputs": [],
   "source": [
    "# import numpy as np\n",
    "# \"\"\"\n",
    "# function<filter_outliers>\n",
    "# I/O: 1-D array (float) /1-D array (boolean)\n",
    "# \"\"\"\n",
    "# def filter_outliers(dataList):\n",
    "#     tmpArray = np.array(dataList)\n",
    "#     mean = np.nanmean(tmpArray)\n",
    "#     std = np.std(tmpArray)  \n",
    "#     return ((tmpArray>mean-0.5*std) & (tmpArray<mean+0.5*std))\n",
    "    \n",
    "# def filter_outlier_by_cluster(dataList,clusterNumber):\n",
    "\n",
    "#     N = int(len(dataList)/clusterNumber)\n",
    "\n",
    "#     boolean = []\n",
    "#     for i in range(N):\n",
    "#         tmpArray =  np.array(dataList[i*clusterNumber:(i+1)*clusterNumber])\n",
    "#         mean = np.nanmean(tmpArray)\n",
    "#         std = np.std(tmpArray)\n",
    "#         boolean.extend(((tmpArray>mean-0.5*std) & (tmpArray<mean+0.5*std)))\n",
    "        \n",
    "#     tmpArray =  np.array(dataList[(i+1)*clusterNumber:])\n",
    "#     mean = np.nanmean(tmpArray)\n",
    "#     std = np.std(tmpArray)\n",
    "#     boolean.extend(((tmpArray>mean-0.5*std) & (tmpArray<mean+0.5*std)))\n",
    "#     return np.array(boolean)\n",
    "\n",
    "# def conbined_SM(dataList,clusterNumber):\n",
    "#     tmpS = filter_outlier_by_cluster(dataList,clusterNumber)\n",
    "#     tmpM = filter_outliers(dataList)\n",
    "#     return tmpS&tmpM\n",
    "\n",
    "# def mutipleMethod(dataList):\n",
    "#     tmp30 = filter_outlier_by_cluster(dataList,30)\n",
    "#     tmp90 = filter_outlier_by_cluster(dataList,90)\n",
    "#     tmp150 = filter_outlier_by_cluster(dataList,150)\n",
    "#     tmpM = filter_outliers(dataList)\n",
    "#     return tmp30 & tmp90 & tmp150 & tmpM\n",
    "    "
   ]
  },
  {
   "cell_type": "code",
   "execution_count": null,
   "id": "edd8066a-0ad9-48c2-aa08-aec469b64ec9",
   "metadata": {},
   "outputs": [],
   "source": [
    "from collections import Counter\n",
    "\n",
    "def moving_avaerage(dataList,window):\n",
    "    dataList = np.array(dataList)\n",
    "    data = []\n",
    "    data.extend(dataList[:window-1])\n",
    "    meanWindow = np.nanmean(dataList[:window])\n",
    "    data.append(meanWindow)\n",
    "    for i in range(len(dataList[window:])):\n",
    "        tmp = (meanWindow*window-dataList[i]+dataList[i+window])/window\n",
    "        if tmp == tmp:\n",
    "            meanWindow = tmp\n",
    "        else: \n",
    "            meanWindow = data[-1]\n",
    "        data.append(meanWindow)\n",
    "    return data\n",
    "    \n",
    "\"\"\"\n",
    "function<reverse_point>\n",
    "Input: data(time,values) in pandas array + moving window range, data(time,values) in pandas array\n",
    "\"\"\"\n",
    "def reverse_point_lower(dataArray, window, filterNumber):\n",
    "    regionMin = []\n",
    "    for i in range(len(dataArray[window:])):\n",
    "        minIndex = dataArray['price'][i:i+window].idxmin()\n",
    "        minTimestamp = dataArray.at[minIndex, 'date']\n",
    "        minWindow = dataArray.at[minIndex, 'price']\n",
    "        regionMin.append(minTimestamp)\n",
    "    counts = Counter(regionMin)\n",
    "    elements_above_window = [element for element, count in counts.items() if count > filterNumber]\n",
    "\n",
    "    critical_date = []\n",
    "    critical_price = []\n",
    "    critical_id = []\n",
    "    tmp = dataArray.set_index('date')\n",
    "    for d in elements_above_window:\n",
    "        if len(tmp.loc[d])>1:\n",
    "            critical_price.append(tmp.loc[d].iloc[0]['price'])\n",
    "            critical_date.append(d)\n",
    "            critical_id.append(dataArray['date'][dataArray['date']==d].index[0])\n",
    "        else:\n",
    "            critical_price.append(tmp.loc[d]['price'])\n",
    "            critical_date.append(d)\n",
    "            critical_id.append(dataArray['date'][dataArray['date']==d].index)\n",
    "    dataset = {'id':critical_id,'date':critical_date,'price':critical_price}\n",
    "    return pd.DataFrame(dataset)\n",
    "\n",
    "def reverse_point_upper(dataArray,window,filterNumber):\n",
    "    regionMax = []\n",
    "    for i in range(len(dataArray[window:])):\n",
    "        maxIndex = dataArray['price'][i:i+window].idxmax()\n",
    "        maxTimestamp = dataArray.at[maxIndex, 'date']\n",
    "        maxWindow = dataArray.at[maxIndex, 'price']\n",
    "        regionMax.append(maxTimestamp)\n",
    "    counts = Counter(regionMax)\n",
    "    elements_above_window = [element for element, count in counts.items() if count > filterNumber]\n",
    "\n",
    "    critical_date = []\n",
    "    critical_price = []\n",
    "    critical_id = []\n",
    "    tmp = dataArray.set_index('date')\n",
    "    for d in elements_above_window:\n",
    "        if len(tmp.loc[d])>1:\n",
    "            critical_price.append(tmp.loc[d].iloc[0]['price'])\n",
    "            critical_date.append(d)\n",
    "            critical_id.append(dataArray['date'][dataArray['date']==d].index[0])\n",
    "        else:\n",
    "            critical_price.append(tmp.loc[d]['price'])\n",
    "            critical_date.append(d)\n",
    "            critical_id.append(dataArray['date'][dataArray['date']==d].index)\n",
    "    dataset = {'id':critical_id,'date':critical_date,'price':critical_price}\n",
    "    return pd.DataFrame(dataset)"
   ]
  },
  {
   "cell_type": "code",
   "execution_count": null,
   "id": "90a1411c-f757-46bd-ab22-1cd0eff4fac3",
   "metadata": {},
   "outputs": [],
   "source": [
    "test = reverse_point_lower(df[['date','price']][df['contract_date']=='202406'],6000,1200)\n",
    "test2 = reverse_point_upper(df[['date','price']][df['contract_date']=='202406'],6000,1200)"
   ]
  },
  {
   "cell_type": "code",
   "execution_count": null,
   "id": "6692240e-5936-4a9e-847a-058f8366bb45",
   "metadata": {},
   "outputs": [],
   "source": [
    "test = reverse_point_lower(df[['date','price']][df['contract_date']=='202406'],600,120)\n",
    "test2 = reverse_point_upper(df[['date','price']][df['contract_date']=='202406'],600,120)"
   ]
  },
  {
   "cell_type": "code",
   "execution_count": null,
   "id": "0099d974-2537-4dee-be19-f3872fea679f",
   "metadata": {},
   "outputs": [],
   "source": []
  },
  {
   "cell_type": "code",
   "execution_count": null,
   "id": "22600158-fb4b-4bde-a01e-6e72a298fac4",
   "metadata": {},
   "outputs": [],
   "source": [
    "# Get feature name\n",
    "df['contract_date'].drop_duplicates()"
   ]
  },
  {
   "cell_type": "code",
   "execution_count": null,
   "id": "9a3d0f6e-6d32-4eb9-b28a-d533c10c939e",
   "metadata": {},
   "outputs": [],
   "source": [
    "fn = '202406'\n",
    "price = df['price'][df['contract_date']==fn]\n",
    "volume = df['volume'][df['contract_date']==fn]\n",
    "date = pd.to_datetime(df['date'][df['contract_date']==fn])\n",
    "test.date = pd.to_datetime(test.date)\n",
    "test2.date = pd.to_datetime(test2.date)"
   ]
  },
  {
   "cell_type": "code",
   "execution_count": null,
   "id": "7f2a9987-679b-4f46-a03a-e1c76f17cb6c",
   "metadata": {},
   "outputs": [],
   "source": [
    "plt.figure(figsize=(15,5))\n",
    "plt.scatter(date.index.values,price)\n",
    "plt.plot(date,moving_avaerage(price,6000),c='r')\n",
    "plt.scatter(test.id.values,test.price.values)\n",
    "plt.scatter(test2.id.values,test2.price.values)\n",
    "# plt.xlim([pd.to_datetime('2024-05-21 08:40:33'),pd.to_datetime('2024-05-21 12:08:33')])\n",
    "# plt.axline((0, 3), slope=1, color='C0', label='by slope')\n"
   ]
  },
  {
   "cell_type": "code",
   "execution_count": null,
   "id": "2196c91b-8f9f-493c-a330-61c6cee18621",
   "metadata": {},
   "outputs": [],
   "source": [
    "date.index.values"
   ]
  },
  {
   "cell_type": "code",
   "execution_count": null,
   "id": "9606e984-a915-4d3a-b9bf-27aa39d31ed4",
   "metadata": {},
   "outputs": [],
   "source": [
    "for i in date[9900:10000]:\n",
    "    print(i)"
   ]
  },
  {
   "cell_type": "code",
   "execution_count": null,
   "id": "d3e8e249-ac72-4065-8939-009cfd4f16a5",
   "metadata": {},
   "outputs": [],
   "source": [
    "import matplotlib.pyplot as plt\n",
    "\n",
    "# 示例数据\n",
    "x = [1, 2, 3, 4, 5]\n",
    "y = [10, 20, 25, 30, 35]\n",
    "labels = ['A', 'B', 'C', 'D', 'E']\n",
    "\n",
    "# 创建图形和子图\n",
    "fig, ax = plt.subplots()\n",
    "\n",
    "# 绘制数据\n",
    "ax.plot(x, y)\n",
    "\n",
    "# 设置x轴刻度和标签\n",
    "ax.set_xticks(x)\n",
    "ax.set_xticklabels(labels)\n",
    "\n",
    "# 添加标题和标签\n",
    "ax.set_title('Example Plot')\n",
    "ax.set_xlabel('Categories')\n",
    "ax.set_ylabel('Values')\n",
    "\n",
    "# 显示图形\n",
    "plt.show()"
   ]
  },
  {
   "cell_type": "code",
   "execution_count": null,
   "id": "b023b402-e9c4-406c-91a1-a5157acbb90e",
   "metadata": {},
   "outputs": [],
   "source": []
  }
 ],
 "metadata": {
  "kernelspec": {
   "display_name": "Python 3 (ipykernel)",
   "language": "python",
   "name": "python3"
  },
  "language_info": {
   "codemirror_mode": {
    "name": "ipython",
    "version": 3
   },
   "file_extension": ".py",
   "mimetype": "text/x-python",
   "name": "python",
   "nbconvert_exporter": "python",
   "pygments_lexer": "ipython3",
   "version": "3.11.5"
  }
 },
 "nbformat": 4,
 "nbformat_minor": 5
}
