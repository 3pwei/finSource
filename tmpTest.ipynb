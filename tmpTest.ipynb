{
 "cells": [
  {
   "cell_type": "markdown",
   "id": "a1fa21d6-7e3e-4793-a1b8-33737ffc20d5",
   "metadata": {},
   "source": [
    "# FinMind + backtesting + talib"
   ]
  },
  {
   "cell_type": "markdown",
   "id": "9474f0fd-9252-4d4a-aa23-2804c07ef413",
   "metadata": {},
   "source": [
    "#### Talib is used to analyze stock and shows the related indexes. \n",
    "#### FinMind is used to get the data from the Taiwan market."
   ]
  },
  {
   "cell_type": "code",
   "execution_count": 1,
   "id": "dbd02683-4a84-4d7a-8ecb-4cfdceff2154",
   "metadata": {},
   "outputs": [],
   "source": [
    "from FinMind.data import DataLoader\n",
    "import pandas as pd\n",
    "import matplotlib.pyplot as plt\n",
    "\n",
    "dl = DataLoader()\n",
    "df = dl.taiwan_stock_daily(stock_id='0050', start_date='2003-01-01', end_date='2023-02-25')\n",
    "\n",
    "df = df.rename(columns={\"date\": \"Date\"})\n",
    "df.set_index(\"Date\" , inplace=True)\n",
    "df = df.rename(columns={\"open\": \"Open\", \"max\": \"High\", \"min\": \"Low\", \"close\": \"Close\", \"Trading_Volume\": \"Volume\"})\n",
    "df = df.rename(columns={\"Trading_Volume\": \"Volume\"})\n",
    "df = df.set_index(pd.DatetimeIndex(pd.to_datetime(df.index)))"
   ]
  },
  {
   "cell_type": "markdown",
   "id": "49a89a12-a78b-474d-a7d1-a5306a2622c9",
   "metadata": {},
   "source": [
    "# FinMind API"
   ]
  },
  {
   "cell_type": "code",
   "execution_count": 2,
   "id": "cd4d1759-e414-420e-ad54-ae0a286d72af",
   "metadata": {},
   "outputs": [],
   "source": [
    "token = pd.read_csv(r\"C:\\Users\\Wade\\Desktop\\Jupyter_Python\\finMindToken.txt\")"
   ]
  },
  {
   "cell_type": "code",
   "execution_count": 3,
   "id": "77d5b032-059e-44c8-bda0-b8e98bb67f2e",
   "metadata": {},
   "outputs": [
    {
     "data": {
      "text/plain": [
       "6000"
      ]
     },
     "execution_count": 3,
     "metadata": {},
     "output_type": "execute_result"
    }
   ],
   "source": [
    "import requests\n",
    "url = \"https://api.web.finmindtrade.com/v2/user_info\"\n",
    "payload = {\n",
    "    \"token\": token, # 參考登入，獲取金鑰\n",
    "}\n",
    "resp = requests.get(url, params=payload)\n",
    "resp.json()[\"user_count\"]  # 使用次數\n",
    "resp.json()[\"api_request_limit\"]  # api 使用上限"
   ]
  },
  {
   "cell_type": "markdown",
   "id": "7dccdbd8-af7a-43f8-947a-b340f19e1c85",
   "metadata": {},
   "source": [
    "### Real time"
   ]
  },
  {
   "cell_type": "code",
   "execution_count": 10,
   "id": "d68f7591-2043-43ab-a3c9-625945d96d8e",
   "metadata": {},
   "outputs": [],
   "source": [
    "url = \"https://api.finmindtrade.com/api/v4/taiwan_futures_snapshot\"\n",
    "parameter = {\n",
    "    \"dataset\": \"taiwan_futures_snapshot\",\n",
    "    \"data_id\": \"TXFE4\",\n",
    "    \"token\": token, # 參考登入，獲取金鑰\n",
    "}\n",
    "\n",
    "\n",
    "resp = requests.get(url, params=parameter)\n",
    "data = resp.json()"
   ]
  },
  {
   "cell_type": "code",
   "execution_count": 11,
   "id": "2f3045b0-9179-41d8-8264-05f06142a1b5",
   "metadata": {},
   "outputs": [
    {
     "data": {
      "text/plain": [
       "{'msg': 'success',\n",
       " 'status': 200,\n",
       " 'data': [{'open': 20834.0,\n",
       "   'high': 20984.0,\n",
       "   'low': 20827.0,\n",
       "   'close': 20948.0,\n",
       "   'change_price': 136.0,\n",
       "   'change_rate': 0.65,\n",
       "   'average_price': 20920.42,\n",
       "   'volume': 1,\n",
       "   'total_volume': 61955,\n",
       "   'amount': 20948,\n",
       "   'total_amount': 1296124411,\n",
       "   'yesterday_volume': 52588,\n",
       "   'buy_price': 20944.0,\n",
       "   'buy_volume': 5,\n",
       "   'sell_price': 20948.0,\n",
       "   'sell_volume': 8,\n",
       "   'volume_ratio': 1.18,\n",
       "   'date': '2024-05-11 04:59:56.092',\n",
       "   'futures_id': 'TXFE4',\n",
       "   'TickType': 1}]}"
      ]
     },
     "execution_count": 11,
     "metadata": {},
     "output_type": "execute_result"
    }
   ],
   "source": [
    "resp.json()"
   ]
  },
  {
   "cell_type": "code",
   "execution_count": 12,
   "id": "4093a95d-9409-496e-a00a-88205e1785b8",
   "metadata": {},
   "outputs": [
    {
     "data": {
      "text/plain": [
       "1.6"
      ]
     },
     "execution_count": 12,
     "metadata": {},
     "output_type": "execute_result"
    }
   ],
   "source": [
    "8/5"
   ]
  },
  {
   "cell_type": "code",
   "execution_count": 11,
   "id": "23c7f598-03f1-4789-bea1-622eaa436f0c",
   "metadata": {},
   "outputs": [
    {
     "data": {
      "text/plain": [
       "{'msg': 'success',\n",
       " 'status': 200,\n",
       " 'data': [{'open': 20655.0,\n",
       "   'high': 20684.0,\n",
       "   'low': 20609.0,\n",
       "   'close': 20656.0,\n",
       "   'change_price': 8.0,\n",
       "   'change_rate': 0.04,\n",
       "   'average_price': 20647.54,\n",
       "   'volume': 6,\n",
       "   'total_volume': 29787,\n",
       "   'amount': 123936,\n",
       "   'total_amount': 615028418,\n",
       "   'yesterday_volume': 32445,\n",
       "   'buy_price': 20656.0,\n",
       "   'buy_volume': 1,\n",
       "   'sell_price': 20657.0,\n",
       "   'sell_volume': 4,\n",
       "   'volume_ratio': 0.92,\n",
       "   'date': '2024-05-07 23:38:54.499',\n",
       "   'futures_id': 'TXFE4',\n",
       "   'TickType': 2}]}"
      ]
     },
     "execution_count": 11,
     "metadata": {},
     "output_type": "execute_result"
    }
   ],
   "source": [
    "resp.json()"
   ]
  },
  {
   "cell_type": "markdown",
   "id": "02bde6d6-2180-4c4f-9ddf-0f09024d891c",
   "metadata": {},
   "source": [
    "### Indicator: CnnFearGreedIndex"
   ]
  },
  {
   "cell_type": "code",
   "execution_count": 4,
   "id": "d3a8aac2-232b-4e89-99ad-aeebc2b21f57",
   "metadata": {},
   "outputs": [],
   "source": [
    "url = \"https://api.finmindtrade.com/api/v4/data?\"\n",
    "parameter = {\n",
    "    \"dataset\": \"CnnFearGreedIndex\",\n",
    "    \"data_id\": \"2330\",\n",
    "    \"start_date\":\"2024-04-01\",\n",
    "    \"end_date\":None,\n",
    "    \"token\": token, \n",
    "}\n",
    "\n",
    "\n",
    "resp = requests.get(url, params=parameter)\n",
    "data = resp.json()"
   ]
  },
  {
   "cell_type": "code",
   "execution_count": 5,
   "id": "344ab41c-4b70-4334-821c-38ef5a6222a5",
   "metadata": {},
   "outputs": [
    {
     "name": "stdout",
     "output_type": "stream",
     "text": [
      "{'msg': 'success', 'status': 200, 'data': [{'date': '2024-04-01', 'fear_greed': 67, 'fear_greed_emotion': 'greed'}, {'date': '2024-04-02', 'fear_greed': 62, 'fear_greed_emotion': 'greed'}, {'date': '2024-04-03', 'fear_greed': 63, 'fear_greed_emotion': 'greed'}, {'date': '2024-04-04', 'fear_greed': 58, 'fear_greed_emotion': 'greed'}, {'date': '2024-04-05', 'fear_greed': 62, 'fear_greed_emotion': 'greed'}, {'date': '2024-04-08', 'fear_greed': 62, 'fear_greed_emotion': 'greed'}, {'date': '2024-04-09', 'fear_greed': 54, 'fear_greed_emotion': 'neutral'}, {'date': '2024-04-10', 'fear_greed': 51, 'fear_greed_emotion': 'neutral'}, {'date': '2024-04-11', 'fear_greed': 46, 'fear_greed_emotion': 'neutral'}, {'date': '2024-04-12', 'fear_greed': 46, 'fear_greed_emotion': 'neutral'}, {'date': '2024-04-15', 'fear_greed': 39, 'fear_greed_emotion': 'fear'}, {'date': '2024-04-16', 'fear_greed': 37, 'fear_greed_emotion': 'fear'}, {'date': '2024-04-17', 'fear_greed': 34, 'fear_greed_emotion': 'fear'}, {'date': '2024-04-18', 'fear_greed': 33, 'fear_greed_emotion': 'fear'}, {'date': '2024-04-19', 'fear_greed': 32, 'fear_greed_emotion': 'fear'}, {'date': '2024-04-22', 'fear_greed': 38, 'fear_greed_emotion': 'fear'}, {'date': '2024-04-23', 'fear_greed': 39, 'fear_greed_emotion': 'fear'}, {'date': '2024-04-24', 'fear_greed': 39, 'fear_greed_emotion': 'fear'}, {'date': '2024-04-25', 'fear_greed': 39, 'fear_greed_emotion': 'fear'}, {'date': '2024-04-26', 'fear_greed': 42, 'fear_greed_emotion': 'fear'}, {'date': '2024-04-29', 'fear_greed': 43, 'fear_greed_emotion': 'fear'}, {'date': '2024-04-30', 'fear_greed': 39, 'fear_greed_emotion': 'fear'}, {'date': '2024-05-01', 'fear_greed': 33, 'fear_greed_emotion': 'fear'}, {'date': '2024-05-02', 'fear_greed': 39, 'fear_greed_emotion': 'fear'}, {'date': '2024-05-03', 'fear_greed': 40, 'fear_greed_emotion': 'fear'}, {'date': '2024-05-06', 'fear_greed': 40, 'fear_greed_emotion': 'fear'}, {'date': '2024-05-07', 'fear_greed': 37, 'fear_greed_emotion': 'fear'}, {'date': '2024-05-08', 'fear_greed': 42, 'fear_greed_emotion': 'fear'}, {'date': '2024-05-09', 'fear_greed': 47, 'fear_greed_emotion': 'neutral'}, {'date': '2024-05-10', 'fear_greed': 49, 'fear_greed_emotion': 'neutral'}]}\n"
     ]
    },
    {
     "data": {
      "text/plain": [
       "[<matplotlib.lines.Line2D at 0x1d24e772790>]"
      ]
     },
     "execution_count": 5,
     "metadata": {},
     "output_type": "execute_result"
    },
    {
     "data": {
      "image/png": "[encoded data removed]",
      "text/plain": [
       "<Figure size 640x480 with 1 Axes>"
      ]
     },
     "metadata": {},
     "output_type": "display_data"
    }
   ],
   "source": [
    "print(data)\n",
    "fear_greed = [i[\"fear_greed\"] for i in data[\"data\"]]\n",
    "plt.plot(fear_greed)"
   ]
  },
  {
   "cell_type": "markdown",
   "id": "243538fb-ac2d-4ad3-bf2c-49c350e2ed2a",
   "metadata": {},
   "source": [
    "### History data"
   ]
  },
  {
   "cell_type": "code",
   "execution_count": 23,
   "id": "487c1e67-7559-4a92-b194-29549b38e4ca",
   "metadata": {},
   "outputs": [],
   "source": [
    "api = DataLoader()\n",
    "api.login_by_token(api_token=token)\n",
    "# api.login(user_id='user_id',password='password')\n",
    "df = api.taiwan_futures_tick(\n",
    "    futures_id='MTX',\n",
    "    date='2024-05-11'\n",
    ")"
   ]
  },
  {
   "cell_type": "code",
   "execution_count": 17,
   "id": "6251f7b0-9942-443b-b014-0bf0c8e24b1d",
   "metadata": {},
   "outputs": [
    {
     "data": {
      "text/html": [
       "<div>\n",
       "<style scoped>\n",
       "    .dataframe tbody tr th:only-of-type {\n",
       "        vertical-align: middle;\n",
       "    }\n",
       "\n",
       "    .dataframe tbody tr th {\n",
       "        vertical-align: top;\n",
       "    }\n",
       "\n",
       "    .dataframe thead th {\n",
       "        text-align: right;\n",
       "    }\n",
       "</style>\n",
       "<table border=\"1\" class=\"dataframe\">\n",
       "  <thead>\n",
       "    <tr style=\"text-align: right;\">\n",
       "      <th></th>\n",
       "      <th>contract_date</th>\n",
       "      <th>date</th>\n",
       "      <th>futures_id</th>\n",
       "      <th>price</th>\n",
       "      <th>volume</th>\n",
       "    </tr>\n",
       "  </thead>\n",
       "  <tbody>\n",
       "  </tbody>\n",
       "</table>\n",
       "</div>"
      ],
      "text/plain": [
       "Empty DataFrame\n",
       "Columns: [contract_date, date, futures_id, price, volume]\n",
       "Index: []"
      ]
     },
     "execution_count": 17,
     "metadata": {},
     "output_type": "execute_result"
    }
   ],
   "source": [
    "df[df[\"date\"]==\"2020-05-12 03:59:02\"]"
   ]
  },
  {
   "cell_type": "code",
   "execution_count": 42,
   "id": "14b98664-9063-40e4-9f97-8a7394cc9a21",
   "metadata": {},
   "outputs": [
    {
     "data": {
      "text/plain": [
       "array(['202405', '202406', '202407', '202412', '202409', '202405W4',\n",
       "       '202503', '202405/202406'], dtype=object)"
      ]
     },
     "execution_count": 42,
     "metadata": {},
     "output_type": "execute_result"
    }
   ],
   "source": [
    "df['contract_date'].unique()"
   ]
  },
  {
   "cell_type": "code",
   "execution_count": 31,
   "id": "03b5d9d3-385a-4513-8ede-80e48f01fac2",
   "metadata": {},
   "outputs": [],
   "source": [
    "tmp_test  =  df[(df[\"date\"]>\"2024-05-11 04:59:00\")&(df[\"contract_date\"]=='202405')]"
   ]
  },
  {
   "cell_type": "code",
   "execution_count": 43,
   "id": "db0eb50f-0aa6-43fe-b230-17fbaff33ea0",
   "metadata": {},
   "outputs": [
    {
     "name": "stdout",
     "output_type": "stream",
     "text": [
      "contract_date\n",
      "date\n",
      "futures_id\n",
      "price\n",
      "volume\n"
     ]
    }
   ],
   "source": [
    "for i in df.iloc[:]:\n",
    "    print(i)"
   ]
  },
  {
   "cell_type": "code",
   "execution_count": 52,
   "id": "6fde32d4-a812-463c-8e3a-86bdf0f93627",
   "metadata": {},
   "outputs": [
    {
     "data": {
      "text/plain": [
       "array([ 2,  4,  8, 24,  6, 32], dtype=int64)"
      ]
     },
     "execution_count": 52,
     "metadata": {},
     "output_type": "execute_result"
    }
   ],
   "source": [
    "tmp_test[\"volume\"].unique() #.iloc[-30:]"
   ]
  },
  {
   "cell_type": "code",
   "execution_count": 53,
   "id": "6d216940-0c74-459b-a390-08e8e2c1e91c",
   "metadata": {},
   "outputs": [
    {
     "name": "stderr",
     "output_type": "stream",
     "text": [
      "MovieWriter ffmpeg unavailable; using Pillow instead.\n"
     ]
    },
    {
     "data": {
      "image/png": "[encoded data removed]",
      "text/plain": [
       "<Figure size 640x480 with 1 Axes>"
      ]
     },
     "metadata": {},
     "output_type": "display_data"
    }
   ],
   "source": [
    "import matplotlib.pyplot as plt\n",
    "import matplotlib.animation as animation\n",
    "\n",
    "fig, ax = plt.subplots()  # 建立單一圖表\n",
    "ax.set_xlim(0,10)         # 設定 x 軸範圍 0～10\n",
    "ax.set_ylim(0,10)         # 設定 y 軸範圍 0～10\n",
    "\n",
    "def init():\n",
    "    ax.scatter(2, 8)      # 一開始要執行的韓式，在 (2,8) 的位置畫點\n",
    "\n",
    "def run(data):\n",
    "    if data>0:\n",
    "        ax.scatter(data, data)    # 如果資料大於 0，就在圖表上畫點\n",
    "    else:\n",
    "        pass\n",
    "\n",
    "ani = animation.FuncAnimation(fig, run, frames=10, interval=10, init_func=init)  # 製作動畫\n",
    "# ani.save('animation.gif', fps=10)   # 儲存為 gif\n",
    "plt.show()"
   ]
  },
  {
   "cell_type": "code",
   "execution_count": 57,
   "id": "bd3100c7-0694-42b3-b88e-00bacad2329a",
   "metadata": {},
   "outputs": [
    {
     "data": {
      "image/png": "[encoded data removed]",
      "text/plain": [
       "<Figure size 640x480 with 1 Axes>"
      ]
     },
     "metadata": {},
     "output_type": "display_data"
    }
   ],
   "source": [
    "import yfinance as yf\n",
    "import matplotlib.pyplot as plt\n",
    "from matplotlib.animation import FuncAnimation\n",
    "import datetime\n",
    "\n",
    "# 获取股票数据\n",
    "symbol = 'AAPL'  # 选择您感兴趣的股票代码\n",
    "stock = yf.Ticker(symbol)\n",
    "history = stock.history(period='1d', interval='1m')  # 获取最近一天的分钟级别历史数据\n",
    "\n",
    "# 创建动态图\n",
    "fig, ax = plt.subplots()\n",
    "line, = ax.plot([], [], lw=2)\n",
    "\n",
    "def init():\n",
    "    ax.set_xlim(0, len(history))\n",
    "    ax.set_ylim(history['Close'].min(), history['Close'].max())\n",
    "    return line,\n",
    "\n",
    "def update(frame):\n",
    "    x = range(len(history))\n",
    "    y = history['Close']\n",
    "    line.set_data(x, y)\n",
    "    ax.set_xlim(0, len(history))\n",
    "    ax.set_ylim(history['Close'].min(), history['Close'].max())\n",
    "    ax.set_title(f'{symbol} 实时股价 - {datetime.datetime.now().strftime(\"%H:%M:%S\")}')\n",
    "    return line,\n",
    "\n",
    "ani = FuncAnimation(fig, update, frames=range(len(history)), init_func=init, blit=True, interval=60000)  # 更新频率为每分钟\n",
    "\n",
    "plt.show()"
   ]
  },
  {
   "cell_type": "code",
   "execution_count": 56,
   "id": "19076ec4-5ddf-49c3-adc9-2da1b436176b",
   "metadata": {},
   "outputs": [],
   "source": [
    "plt.show()"
   ]
  },
  {
   "cell_type": "code",
   "execution_count": null,
   "id": "4f2d731b-a4cf-498c-b235-96056253822b",
   "metadata": {},
   "outputs": [],
   "source": []
  }
 ],
 "metadata": {
  "kernelspec": {
   "display_name": "Python 3 (ipykernel)",
   "language": "python",
   "name": "python3"
  },
  "language_info": {
   "codemirror_mode": {
    "name": "ipython",
    "version": 3
   },
   "file_extension": ".py",
   "mimetype": "text/x-python",
   "name": "python",
   "nbconvert_exporter": "python",
   "pygments_lexer": "ipython3",
   "version": "3.11.5"
  }
 },
 "nbformat": 4,
 "nbformat_minor": 5
}
